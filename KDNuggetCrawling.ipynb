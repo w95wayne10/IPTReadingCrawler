{
 "cells": [
  {
   "cell_type": "code",
   "execution_count": 1,
   "metadata": {
    "collapsed": true
   },
   "outputs": [],
   "source": [
    "import requests\n",
    "from bs4 import BeautifulSoup as bs\n",
    "import lxml\n",
    "from IPython.display import display, HTML\n",
    "import pdfkit\n",
    "import bs4"
   ]
  },
  {
   "cell_type": "code",
   "execution_count": 2,
   "metadata": {},
   "outputs": [],
   "source": [
    "#page = requests.get('http://www.kdnuggets.com/2017/06/understanding-deep-learning-rethinking-generalization.html?utm_content=buffercf1b2&utm_medium=social&utm_source=facebook.com&utm_campaign=buffer')\n",
    "#page = requests.get('http://www.kdnuggets.com/2017/06/top-15-python-libraries-data-science.html')\n",
    "page = requests.get('http://www.kdnuggets.com/2017/06/why-artificial-intelligence-machine-learning.html')\n",
    "\n",
    "article = bs(page.text,'lxml')\n",
    "#display(HTML(str(article)))"
   ]
  },
  {
   "cell_type": "code",
   "execution_count": 3,
   "metadata": {},
   "outputs": [],
   "source": [
    "content = article.find(id='content')"
   ]
  },
  {
   "cell_type": "code",
   "execution_count": 4,
   "metadata": {},
   "outputs": [],
   "source": [
    "content.find(id=\"post-header-ad\").decompose()\n",
    "mainArt = content.find(id = 'post-')\n",
    "link = content.find(class_ = 'page-link').extract()"
   ]
  },
  {
   "cell_type": "code",
   "execution_count": 5,
   "metadata": {},
   "outputs": [],
   "source": [
    "title = str(content.find(id='title').contents[-1])\n",
    "title = title.replace(\"?\", \"\")"
   ]
  },
  {
   "cell_type": "code",
   "execution_count": 6,
   "metadata": {},
   "outputs": [],
   "source": [
    "newPage = bs('<html><head><title></title><meta charset=\"UTF-8\"></head><body><h1></h1></body></html>','lxml')\n",
    "newPage.title.insert(len(newPage.title.contents),title)\n",
    "newPage.h1.insert(len(newPage.h1.contents),title)\n",
    "newPage.body.insert(len(newPage.body.contents),mainArt)"
   ]
  },
  {
   "cell_type": "code",
   "execution_count": 7,
   "metadata": {
    "collapsed": true
   },
   "outputs": [],
   "source": [
    "for subpage in link.find_all('a'):\n",
    "    Spage = requests.get(subpage['href'])\n",
    "    Sarticle = bs(Spage.text,'lxml')\n",
    "    Scontent = Sarticle.find(id='content')\n",
    "    SmainArt = Scontent.find(id = 'post-')\n",
    "    newPage.body.insert(len(newPage.body.contents),SmainArt)"
   ]
  },
  {
   "cell_type": "code",
   "execution_count": 8,
   "metadata": {},
   "outputs": [
    {
     "name": "stdout",
     "output_type": "stream",
     "text": [
      "Loading pages (1/6)\r\n",
      "[>                                                           ] 0%\r",
      "[======>                                                     ] 10%\r",
      "[=========>                                                  ] 15%\r",
      "[=========>                                                  ] 16%\r",
      "[==========>                                                 ] 18%\r",
      "[==============>                                             ] 24%\r",
      "[================>                                           ] 28%\r",
      "[===================>                                        ] 33%\r",
      "[=====================>                                      ] 36%\r",
      "[=======================>                                    ] 39%\r",
      "[=========================>                                  ] 42%\r",
      "[===========================>                                ] 46%\r",
      "[============================>                               ] 48%\r",
      "[===============================>                            ] 53%\r",
      "[==================================>                         ] 57%\r",
      "[====================================>                       ] 60%\r",
      "[===========================================>                ] 73%\r",
      "[============================================================] 100%\r",
      "[======>                                                     ] 10% \r",
      "[============================================================] 100%\r",
      "[======>                                                     ] 10% \r",
      "Warning: A finished ResourceObject received a loading finished signal. This might be an indication of an iframe taking too long to load.\r\n",
      "Warning: A finished ResourceObject received a loading progress signal. This might be an indication of an iframe taking too long to load.\r\n",
      "Counting pages (2/6)\r\n",
      "[============================================================] Object 1 of 1\r",
      "Resolving links (4/6)                                                       \r\n",
      "[============================================================] Object 1 of 1\r",
      "Loading headers and footers (5/6)                                           \r\n",
      "Printing pages (6/6)\r\n",
      "[>                                                           ] Preparing\r",
      "[==============================>                             ] Page 1 of 2\r",
      "[============================================================] Page 2 of 2\r",
      "Done                                                                      \r\n"
     ]
    },
    {
     "data": {
      "text/plain": [
       "True"
      ]
     },
     "execution_count": 8,
     "metadata": {},
     "output_type": "execute_result"
    }
   ],
   "source": [
    "\n",
    "with open(title+'.html','w',encoding='utf-8') as file:\n",
    "    file.write(newPage.prettify())\n",
    "    \n",
    "pdfkit.from_file(title+'.html', title+'.pdf')"
   ]
  },
  {
   "cell_type": "code",
   "execution_count": 9,
   "metadata": {
    "scrolled": true
   },
   "outputs": [],
   "source": [
    "#print(str(mainArt.prettify()))"
   ]
  },
  {
   "cell_type": "code",
   "execution_count": null,
   "metadata": {
    "collapsed": true
   },
   "outputs": [],
   "source": []
  }
 ],
 "metadata": {
  "kernelspec": {
   "display_name": "Python 3",
   "language": "python",
   "name": "python3"
  },
  "language_info": {
   "codemirror_mode": {
    "name": "ipython",
    "version": 3
   },
   "file_extension": ".py",
   "mimetype": "text/x-python",
   "name": "python",
   "nbconvert_exporter": "python",
   "pygments_lexer": "ipython3",
   "version": "3.5.3"
  }
 },
 "nbformat": 4,
 "nbformat_minor": 2
}
