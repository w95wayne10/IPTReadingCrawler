{
 "cells": [
  {
   "cell_type": "code",
   "execution_count": 1,
   "metadata": {
    "collapsed": true
   },
   "outputs": [],
   "source": [
    "import requests\n",
    "from bs4 import BeautifulSoup as bs\n",
    "import lxml\n",
    "from IPython.display import display, HTML\n",
    "import pdfkit\n",
    "import bs4"
   ]
  },
  {
   "cell_type": "code",
   "execution_count": 2,
   "metadata": {
    "collapsed": true
   },
   "outputs": [],
   "source": [
    "page = requests.get('http://www.ithome.com.tw/news/115591')\n",
    "\n",
    "article = bs(page.text,'lxml')\n",
    "#display(HTML(str(article)))"
   ]
  },
  {
   "cell_type": "code",
   "execution_count": 3,
   "metadata": {
    "collapsed": true
   },
   "outputs": [],
   "source": [
    "content = article.find(class_='main-container')\n"
   ]
  },
  {
   "cell_type": "code",
   "execution_count": 4,
   "metadata": {
    "collapsed": true
   },
   "outputs": [],
   "source": [
    "content.find(class_=\"region-header\").decompose()\n",
    "for item in content.find_all('section',class_='clearfix'):\n",
    "    item.decompose()"
   ]
  },
  {
   "cell_type": "code",
   "execution_count": 6,
   "metadata": {},
   "outputs": [],
   "source": [
    "title = str(content.find(class_='page-header').contents[-1])\n",
    "filetitle = title.replace(\"?\", \"\")"
   ]
  },
  {
   "cell_type": "code",
   "execution_count": 8,
   "metadata": {},
   "outputs": [],
   "source": [
    "newPage = bs('<html><head><title></title><meta charset=\"UTF-8\"></head><body></body></html>','lxml')\n",
    "newPage.title.insert(len(newPage.title.contents),title)\n",
    "newPage.body.insert(len(newPage.body.contents),content)"
   ]
  },
  {
   "cell_type": "code",
   "execution_count": 9,
   "metadata": {},
   "outputs": [
    {
     "name": "stdout",
     "output_type": "stream",
     "text": [
      "Loading pages (1/6)\r\n",
      "[>                                                           ] 0%\r",
      "[======>                                                     ] 10%\r",
      "[===========>                                                ] 19%\r",
      "[===========>                                                ] 19%\r",
      "[============>                                               ] 20%\r",
      "[=============>                                              ] 23%\r",
      "[===============>                                            ] 25%\r",
      "[================>                                           ] 27%\r",
      "[==================>                                         ] 30%\r",
      "[===================>                                        ] 32%\r",
      "[=====================>                                      ] 35%\r",
      "[======================>                                     ] 37%\r",
      "[=======================>                                    ] 39%\r",
      "[========================>                                   ] 41%\r",
      "[==========================>                                 ] 44%\r",
      "[===========================>                                ] 46%\r",
      "[==============================>                             ] 50%\r",
      "[===============================>                            ] 52%\r",
      "[================================>                           ] 54%\r",
      "[=================================>                          ] 56%\r",
      "[===================================>                        ] 59%\r",
      "[====================================>                       ] 61%\r",
      "[=====================================>                      ] 63%\r",
      "[=======================================>                    ] 65%\r",
      "[========================================>                   ] 67%\r",
      "[==========================================>                 ] 70%\r",
      "[===========================================>                ] 72%\r",
      "[============================================>               ] 74%\r",
      "[=============================================>              ] 76%\r",
      "[===============================================>            ] 79%\r",
      "[=================================================>          ] 82%\r",
      "[============================================================] 100%\r",
      "Counting pages (2/6)                                               \r\n",
      "[============================================================] Object 1 of 1\r",
      "Resolving links (4/6)                                                       \r\n",
      "[============================================================] Object 1 of 1\r",
      "Loading headers and footers (5/6)                                           \r\n",
      "Printing pages (6/6)\r\n",
      "[>                                                           ] Preparing\r",
      "[==============================>                             ] Page 1 of 2\r",
      "[============================================================] Page 2 of 2\r",
      "Done                                                                      \r\n"
     ]
    },
    {
     "data": {
      "text/plain": [
       "True"
      ]
     },
     "execution_count": 9,
     "metadata": {},
     "output_type": "execute_result"
    }
   ],
   "source": [
    "with open(filetitle+'.html','w',encoding='utf-8') as file:\n",
    "    file.write(newPage.prettify())\n",
    "    \n",
    "pdfkit.from_file(filetitle+'.html', filetitle+'.pdf')"
   ]
  },
  {
   "cell_type": "code",
   "execution_count": null,
   "metadata": {
    "collapsed": true,
    "scrolled": true
   },
   "outputs": [],
   "source": [
    "#print(str(mainArt.prettify()))"
   ]
  },
  {
   "cell_type": "code",
   "execution_count": null,
   "metadata": {
    "collapsed": true
   },
   "outputs": [],
   "source": []
  }
 ],
 "metadata": {
  "kernelspec": {
   "display_name": "Python 3",
   "language": "python",
   "name": "python3"
  },
  "language_info": {
   "codemirror_mode": {
    "name": "ipython",
    "version": 3
   },
   "file_extension": ".py",
   "mimetype": "text/x-python",
   "name": "python",
   "nbconvert_exporter": "python",
   "pygments_lexer": "ipython3",
   "version": "3.5.3"
  }
 },
 "nbformat": 4,
 "nbformat_minor": 2
}
