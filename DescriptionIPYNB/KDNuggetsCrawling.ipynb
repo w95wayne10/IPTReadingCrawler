{
 "cells": [
  {
   "cell_type": "markdown",
   "metadata": {},
   "source": [
    "# 節點部分處理細節---KDNuggets 網頁爬蟲"
   ]
  },
  {
   "cell_type": "code",
   "execution_count": 1,
   "metadata": {
    "collapsed": true
   },
   "outputs": [],
   "source": [
    "import requests\n",
    "import lxml\n",
    "import pdfkit\n",
    "import os\n",
    "from bs4 import BeautifulSoup as bs\n",
    "from IPython.display import display, HTML"
   ]
  },
  {
   "cell_type": "markdown",
   "metadata": {},
   "source": [
    "### 讀入網址"
   ]
  },
  {
   "cell_type": "code",
   "execution_count": 2,
   "metadata": {
    "collapsed": true
   },
   "outputs": [],
   "source": [
    "url = ['http://www.kdnuggets.com/2017/06/understanding-deep-learning-rethinking-generalization.html',\n",
    "       'http://www.kdnuggets.com/2017/06/top-15-python-libraries-data-science.html',\n",
    "       'http://www.kdnuggets.com/2017/06/why-artificial-intelligence-machine-learning.html'\n",
    "       'http://www.kdnuggets.com/2017/07/when-not-use-deep-learning.html']"
   ]
  },
  {
   "cell_type": "markdown",
   "metadata": {},
   "source": [
    "### 載入網頁"
   ]
  },
  {
   "cell_type": "code",
   "execution_count": 3,
   "metadata": {
    "collapsed": true
   },
   "outputs": [],
   "source": [
    "page = requests.get(url[0])\n",
    "article = bs(page.text,'lxml')\n",
    "\n",
    "# 查看網頁原貌(JS、CSS可能影響整個notebook表現\n",
    "# display(HTML(str(article)))\n",
    "\n",
    "# 單純查看格式整理後的HTML輸出\n",
    "# print(str(article.prettify()))"
   ]
  },
  {
   "cell_type": "markdown",
   "metadata": {},
   "source": [
    "### 細部整理"
   ]
  },
  {
   "cell_type": "code",
   "execution_count": 4,
   "metadata": {
    "collapsed": true
   },
   "outputs": [],
   "source": [
    "# 擷取到有全部主內容的最小節點\n",
    "content = article.find(id='content')"
   ]
  },
  {
   "cell_type": "code",
   "execution_count": 5,
   "metadata": {
    "collapsed": true
   },
   "outputs": [],
   "source": [
    "# 去除主內容內的雜訊(e.g.廣告)\n",
    "content.find(id=\"post-header-ad\").decompose()\n",
    "\n",
    "# 取出文章部分(此case不包含title，所以後面樣板要加上標題標籤)\n",
    "mainArt = content.find(id = 'post-')\n",
    "\n",
    "# 由於此case有一文多頁的狀況 故要取出其他頁的連結部分)\n",
    "link = content.find(class_ = 'page-link').extract()"
   ]
  },
  {
   "cell_type": "code",
   "execution_count": 6,
   "metadata": {
    "collapsed": true
   },
   "outputs": [],
   "source": [
    "# 取出標題部分(部分文章第一個內容物是圖檔(熱門或是精華文章標示)故要擷取最末位(-1))\n",
    "title = str(content.find(id='title').contents[-1])\n",
    "\n",
    "filetitle = title[:]\n",
    "# 暫存HTML和後續PDF的檔名不能包含部分符號之移除\n",
    "for ch in '*|\\\\:\"<>?/':\n",
    "    filetitle = filetitle.replace(ch, \"\")"
   ]
  },
  {
   "cell_type": "markdown",
   "metadata": {},
   "source": [
    "### 建立新網頁節點樹"
   ]
  },
  {
   "cell_type": "code",
   "execution_count": 7,
   "metadata": {
    "collapsed": true
   },
   "outputs": [],
   "source": [
    "# 建立樣板\n",
    "newPage = bs('<html><head><title></title><meta charset=\"UTF-8\"></head><body><h1></h1></body></html>','lxml')\n",
    "\n",
    "# 插入網頁標題、標題、文章\n",
    "newPage.title.insert(len(newPage.title.contents),title)\n",
    "newPage.h1.insert(len(newPage.h1.contents),title)\n",
    "newPage.body.insert(len(newPage.body.contents),mainArt)"
   ]
  },
  {
   "cell_type": "code",
   "execution_count": 8,
   "metadata": {
    "collapsed": true
   },
   "outputs": [],
   "source": [
    "# 將後段分頁的內容也加入(只需要文章部分，狀況同第一頁的處理)\n",
    "for subpage in link.find_all('a'):\n",
    "    Spage = requests.get(subpage['href'])\n",
    "    Sarticle = bs(Spage.text,'lxml')\n",
    "    Scontent = Sarticle.find(id='content')\n",
    "    SmainArt = Scontent.find(id = 'post-')\n",
    "    newPage.body.insert(len(newPage.body.contents),SmainArt)"
   ]
  },
  {
   "cell_type": "markdown",
   "metadata": {},
   "source": [
    "### 檔案匯出"
   ]
  },
  {
   "cell_type": "code",
   "execution_count": 9,
   "metadata": {},
   "outputs": [
    {
     "name": "stdout",
     "output_type": "stream",
     "text": [
      "Loading pages (1/6)\r\n",
      "[>                                                           ] 0%\r",
      "[======>                                                     ] 10%\r",
      "[=============>                                              ] 22%\r",
      "[=============>                                              ] 22%\r",
      "[================>                                           ] 28%\r",
      "[===================>                                        ] 32%\r",
      "[=====================>                                      ] 35%\r",
      "[======================>                                     ] 38%\r",
      "[=========================>                                  ] 43%\r",
      "[============================>                               ] 47%\r",
      "[===============================>                            ] 52%\r",
      "[=================================>                          ] 56%\r",
      "[==================================>                         ] 58%\r",
      "[====================================>                       ] 60%\r",
      "[======================================>                     ] 64%\r",
      "[=======================================>                    ] 66%\r",
      "[========================================>                   ] 68%\r",
      "[==========================================>                 ] 71%\r",
      "[============================================>               ] 74%\r",
      "[==============================================>             ] 78%\r",
      "[=================================================>          ] 83%\r",
      "[============================================================] 100%\r",
      "Counting pages (2/6)                                               \r\n",
      "[============================================================] Object 1 of 1\r",
      "Resolving links (4/6)                                                       \r\n",
      "[============================================================] Object 1 of 1\r",
      "Loading headers and footers (5/6)                                           \r\n",
      "Printing pages (6/6)\r\n",
      "[>                                                           ] Preparing\r",
      "[===================>                                        ] Page 1 of 3\r",
      "[=======================================>                    ] Page 2 of 3\r",
      "[============================================================] Page 3 of 3\r",
      "Done                                                                      \r\n"
     ]
    },
    {
     "data": {
      "text/plain": [
       "True"
      ]
     },
     "execution_count": 9,
     "metadata": {},
     "output_type": "execute_result"
    }
   ],
   "source": [
    "#建立HTML檔\n",
    "with open(filetitle+'.html','w',encoding='utf-8') as file:\n",
    "    file.write(newPage.prettify())\n",
    "    \n",
    "#讀入HTML檔，產生PDF\n",
    "if os.path.exists(filetitle+'.pdf'):\n",
    "    os.remove(filetitle+'.pdf')\n",
    "pdfkit.from_file(filetitle+'.html', filetitle+'.pdf')"
   ]
  }
 ],
 "metadata": {
  "kernelspec": {
   "display_name": "Python 3",
   "language": "python",
   "name": "python3"
  },
  "language_info": {
   "codemirror_mode": {
    "name": "ipython",
    "version": 3
   },
   "file_extension": ".py",
   "mimetype": "text/x-python",
   "name": "python",
   "nbconvert_exporter": "python",
   "pygments_lexer": "ipython3",
   "version": "3.5.3"
  }
 },
 "nbformat": 4,
 "nbformat_minor": 2
}
