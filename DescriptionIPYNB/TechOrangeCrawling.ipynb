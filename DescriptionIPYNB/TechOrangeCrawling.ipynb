{
 "cells": [
  {
   "cell_type": "markdown",
   "metadata": {},
   "source": [
    "# 節點部分處理細節---科技報橘網頁爬蟲"
   ]
  },
  {
   "cell_type": "code",
   "execution_count": 1,
   "metadata": {
    "collapsed": true
   },
   "outputs": [],
   "source": [
    "import requests\n",
    "import lxml\n",
    "import pdfkit\n",
    "import os\n",
    "import bs4\n",
    "from bs4 import BeautifulSoup as bs\n",
    "from IPython.display import display, HTML"
   ]
  },
  {
   "cell_type": "markdown",
   "metadata": {},
   "source": [
    "### 讀入網址"
   ]
  },
  {
   "cell_type": "code",
   "execution_count": 2,
   "metadata": {
    "collapsed": true
   },
   "outputs": [],
   "source": [
    "url = ['https://buzzorange.com/techorange/2017/06/20/start-from-zero-learning-big-data/',\n",
    "      'https://buzzorange.com/techorange/2017/08/30/how-to-work-on-ai/',\n",
    "      'https://buzzorange.com/techorange/2017/08/21/the-best-ai-lesson/']"
   ]
  },
  {
   "cell_type": "markdown",
   "metadata": {},
   "source": [
    "### 載入網頁"
   ]
  },
  {
   "cell_type": "code",
   "execution_count": 3,
   "metadata": {
    "collapsed": true
   },
   "outputs": [],
   "source": [
    "page = requests.get(url[0])\n",
    "article = bs(page.text,'lxml')\n",
    "\n",
    "# 查看網頁原貌(JS、CSS可能影響整個notebook表現\n",
    "# display(HTML(str(article)))\n",
    "\n",
    "# 單純查看格式整理後的HTML輸出\n",
    "# print(str(article.prettify()))"
   ]
  },
  {
   "cell_type": "markdown",
   "metadata": {},
   "source": [
    "### 細部整理"
   ]
  },
  {
   "cell_type": "code",
   "execution_count": 4,
   "metadata": {
    "collapsed": true
   },
   "outputs": [],
   "source": [
    "# 擷取到有全部主內容的最小節點\n",
    "content = article.find('article')"
   ]
  },
  {
   "cell_type": "code",
   "execution_count": 5,
   "metadata": {
    "collapsed": true
   },
   "outputs": [],
   "source": [
    "# 去除主內容內的雜訊(e.g.廣告)\n",
    "content.find(class_='fb-count').decompose()\n",
    "content.find(class_='byline').decompose()\n",
    "# 迴圈去除同類雜訊\n",
    "for item in content.find_all('img',class_='aligncenter'):\n",
    "    item.decompose()"
   ]
  },
  {
   "cell_type": "code",
   "execution_count": 6,
   "metadata": {},
   "outputs": [],
   "source": [
    "# 從某特定節點後開始去除同類雜訊\n",
    "startDecompose = False\n",
    "for item in content.find(class_='entry-content').children:\n",
    "    if item==content.find(id='share_group_btns'):\n",
    "        startDecompose = True\n",
    "    if startDecompose:\n",
    "        if type(item)!=bs4.NavigableString:\n",
    "            item.decompose()"
   ]
  },
  {
   "cell_type": "code",
   "execution_count": 7,
   "metadata": {},
   "outputs": [],
   "source": [
    "# 取出標題部分\n",
    "title = str(content.find('h1').contents[0])\n",
    "\n",
    "filetitle = title[:]\n",
    "# 暫存HTML和後續PDF的檔名不能包含部分符號之移除\n",
    "for ch in '*|\\\\:\"<>?/':\n",
    "    filetitle = filetitle.replace(ch, \"\")"
   ]
  },
  {
   "cell_type": "markdown",
   "metadata": {},
   "source": [
    "### 建立新網頁節點樹"
   ]
  },
  {
   "cell_type": "code",
   "execution_count": 8,
   "metadata": {
    "collapsed": true
   },
   "outputs": [],
   "source": [
    "# 建立樣板\n",
    "newPage = bs('<html><head><title></title><meta charset=\"UTF-8\"></head><body></body></html>','lxml')\n",
    "\n",
    "# 插入網頁標題、文章\n",
    "newPage.title.insert(len(newPage.title.contents),title)\n",
    "newPage.body.insert(len(newPage.body.contents),content)"
   ]
  },
  {
   "cell_type": "markdown",
   "metadata": {},
   "source": [
    "### 檔案匯出"
   ]
  },
  {
   "cell_type": "code",
   "execution_count": 9,
   "metadata": {},
   "outputs": [
    {
     "name": "stdout",
     "output_type": "stream",
     "text": [
      "Loading pages (1/6)\r\n",
      "[>                                                           ] 0%\r",
      "[======>                                                     ] 10%\r",
      "[===============>                                            ] 26%\r",
      "[===============>                                            ] 26%\r",
      "[=============================>                              ] 49%\r",
      "[==================================>                         ] 58%\r",
      "[=====================================>                      ] 63%\r",
      "[=========================================>                  ] 69%\r",
      "[===========================================>                ] 73%\r",
      "[=============================================>              ] 76%\r",
      "[==============================================>             ] 78%\r",
      "[=================================================>          ] 83%\r",
      "[============================================================] 100%\r",
      "Counting pages (2/6)                                               \r\n",
      "[============================================================] Object 1 of 1\r",
      "Resolving links (4/6)                                                       \r\n",
      "[============================================================] Object 1 of 1\r",
      "Loading headers and footers (5/6)                                           \r\n",
      "Printing pages (6/6)\r\n",
      "[>                                                           ] Preparing\r",
      "[======>                                                     ] Page 1 of 9\r",
      "[=============>                                              ] Page 2 of 9\r",
      "[===================>                                        ] Page 3 of 9\r",
      "[==========================>                                 ] Page 4 of 9\r",
      "[=================================>                          ] Page 5 of 9\r",
      "[=======================================>                    ] Page 6 of 9\r",
      "[==============================================>             ] Page 7 of 9\r",
      "[====================================================>       ] Page 8 of 9\r",
      "[============================================================] Page 9 of 9\r",
      "Done                                                                      \r\n"
     ]
    },
    {
     "data": {
      "text/plain": [
       "True"
      ]
     },
     "execution_count": 9,
     "metadata": {},
     "output_type": "execute_result"
    }
   ],
   "source": [
    "#建立HTML檔\n",
    "with open(title+'.html','w',encoding='utf-8') as file:\n",
    "    file.write(newPage.prettify())\n",
    "    \n",
    "#讀入HTML檔，產生PDF\n",
    "if os.path.exists(filetitle+'.pdf'):\n",
    "    os.remove(filetitle+'.pdf')\n",
    "pdfkit.from_file(title+'.html', title+'.pdf')"
   ]
  }
 ],
 "metadata": {
  "kernelspec": {
   "display_name": "Python 3",
   "language": "python",
   "name": "python3"
  },
  "language_info": {
   "codemirror_mode": {
    "name": "ipython",
    "version": 3
   },
   "file_extension": ".py",
   "mimetype": "text/x-python",
   "name": "python",
   "nbconvert_exporter": "python",
   "pygments_lexer": "ipython3",
   "version": "3.5.3"
  }
 },
 "nbformat": 4,
 "nbformat_minor": 2
}
